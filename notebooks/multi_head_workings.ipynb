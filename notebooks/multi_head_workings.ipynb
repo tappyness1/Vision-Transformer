{
 "cells": [
  {
   "cell_type": "code",
   "execution_count": 65,
   "metadata": {},
   "outputs": [
    {
     "name": "stdout",
     "output_type": "stream",
     "text": [
      "The autoreload extension is already loaded. To reload it, use:\n",
      "  %reload_ext autoreload\n"
     ]
    }
   ],
   "source": [
    "%load_ext autoreload\n",
    "%autoreload 2\n",
    "import sys\n",
    "sys.path.append(\"..\")"
   ]
  },
  {
   "cell_type": "code",
   "execution_count": 66,
   "metadata": {},
   "outputs": [],
   "source": [
    "import numpy as np\n",
    "import torch.nn as nn\n",
    "import torch"
   ]
  },
  {
   "cell_type": "code",
   "execution_count": 86,
   "metadata": {},
   "outputs": [],
   "source": [
    "q_weights = nn.Parameter(torch.rand(2,4,4))\n",
    "q_bias = nn.Parameter(torch.rand(2,4))"
   ]
  },
  {
   "cell_type": "code",
   "execution_count": 90,
   "metadata": {},
   "outputs": [],
   "source": [
    "out = X @ q_weights"
   ]
  },
  {
   "cell_type": "code",
   "execution_count": 91,
   "metadata": {},
   "outputs": [
    {
     "data": {
      "text/plain": [
       "torch.Size([50, 2, 2, 4])"
      ]
     },
     "execution_count": 91,
     "metadata": {},
     "output_type": "execute_result"
    }
   ],
   "source": [
    "out.shape"
   ]
  },
  {
   "cell_type": "code",
   "execution_count": 84,
   "metadata": {},
   "outputs": [
    {
     "data": {
      "text/plain": [
       "Parameter containing:\n",
       "tensor([[[0.8258, 0.9725, 0.9944, 0.2031],\n",
       "         [0.3247, 0.9920, 0.2837, 0.5455],\n",
       "         [0.4981, 0.4955, 0.3954, 0.5859],\n",
       "         [0.0780, 0.3348, 0.6685, 0.7755]],\n",
       "\n",
       "        [[0.5883, 0.4443, 0.0964, 0.4281],\n",
       "         [0.2792, 0.8713, 0.3797, 0.2136],\n",
       "         [0.5460, 0.7706, 0.9035, 0.7923],\n",
       "         [0.3163, 0.4275, 0.6350, 0.9324]]], requires_grad=True)"
      ]
     },
     "execution_count": 84,
     "metadata": {},
     "output_type": "execute_result"
    }
   ],
   "source": [
    "q_weights"
   ]
  },
  {
   "cell_type": "code",
   "execution_count": 83,
   "metadata": {},
   "outputs": [
    {
     "data": {
      "text/plain": [
       "tensor([[[0.8258, 0.3247, 0.4981, 0.0780],\n",
       "         [0.9725, 0.9920, 0.4955, 0.3348],\n",
       "         [0.9944, 0.2837, 0.3954, 0.6685],\n",
       "         [0.2031, 0.5455, 0.5859, 0.7755]],\n",
       "\n",
       "        [[0.5883, 0.2792, 0.5460, 0.3163],\n",
       "         [0.4443, 0.8713, 0.7706, 0.4275],\n",
       "         [0.0964, 0.3797, 0.9035, 0.6350],\n",
       "         [0.4281, 0.2136, 0.7923, 0.9324]]], grad_fn=<TransposeBackward0>)"
      ]
     },
     "execution_count": 83,
     "metadata": {},
     "output_type": "execute_result"
    }
   ],
   "source": [
    "torch.transpose(q_weights, 1,2)"
   ]
  }
 ],
 "metadata": {
  "kernelspec": {
   "display_name": "pytorch_cpu",
   "language": "python",
   "name": "python3"
  },
  "language_info": {
   "codemirror_mode": {
    "name": "ipython",
    "version": 3
   },
   "file_extension": ".py",
   "mimetype": "text/x-python",
   "name": "python",
   "nbconvert_exporter": "python",
   "pygments_lexer": "ipython3",
   "version": "3.8.16"
  },
  "orig_nbformat": 4
 },
 "nbformat": 4,
 "nbformat_minor": 2
}
