{
 "cells": [
  {
   "cell_type": "code",
   "execution_count": 1,
   "id": "5b5a3151-3f1e-454b-a3aa-7df882c426b7",
   "metadata": {
    "execution": {
     "iopub.execute_input": "2025-07-24T06:37:22.363641Z",
     "iopub.status.busy": "2025-07-24T06:37:22.362612Z",
     "iopub.status.idle": "2025-07-24T06:37:22.406538Z",
     "shell.execute_reply": "2025-07-24T06:37:22.405188Z",
     "shell.execute_reply.started": "2025-07-24T06:37:22.363594Z"
    }
   },
   "outputs": [],
   "source": [
    "%load_ext autoreload\n",
    "%autoreload 2\n",
    "import sys\n",
    "sys.path.append(\"..\")"
   ]
  },
  {
   "cell_type": "code",
   "execution_count": 2,
   "id": "7a44f4e7-d9e1-48e9-bcaa-edec3bc7da89",
   "metadata": {
    "execution": {
     "iopub.execute_input": "2025-07-24T06:37:20.937344Z",
     "iopub.status.busy": "2025-07-24T06:37:20.936843Z",
     "iopub.status.idle": "2025-07-24T06:37:20.978579Z",
     "shell.execute_reply": "2025-07-24T06:37:20.977394Z",
     "shell.execute_reply.started": "2025-07-24T06:37:20.937282Z"
    }
   },
   "outputs": [
    {
     "name": "stderr",
     "output_type": "stream",
     "text": [
      "/opt/miniconda3/envs/ViT/lib/python3.8/site-packages/tqdm/auto.py:21: TqdmWarning: IProgress not found. Please update jupyter and ipywidgets. See https://ipywidgets.readthedocs.io/en/stable/user_install.html\n",
      "  from .autonotebook import tqdm as notebook_tqdm\n"
     ]
    }
   ],
   "source": [
    "from typing import Tuple\n",
    "\n",
    "import matplotlib.pyplot as plt\n",
    "import torch\n",
    "import torch.nn as nn\n",
    "import torch.nn.functional as F\n",
    "from src.dataset import get_load_data\n",
    "from torch.utils.data import DataLoader"
   ]
  },
  {
   "cell_type": "code",
   "execution_count": 3,
   "id": "6a4b1b49-e24c-4459-884a-1ce0d6c8ef26",
   "metadata": {
    "execution": {
     "iopub.execute_input": "2025-07-24T06:37:23.980271Z",
     "iopub.status.busy": "2025-07-24T06:37:23.979378Z",
     "iopub.status.idle": "2025-07-24T06:37:24.060836Z",
     "shell.execute_reply": "2025-07-24T06:37:24.060126Z",
     "shell.execute_reply.started": "2025-07-24T06:37:23.980226Z"
    }
   },
   "outputs": [],
   "source": [
    "_, test = get_load_data(root = \"../data/\", dataset = \"Flowers102\", download = True)"
   ]
  },
  {
   "cell_type": "code",
   "execution_count": 5,
   "id": "f6ecd11d-3a58-4c82-ad3c-23d31e66b9bf",
   "metadata": {
    "execution": {
     "iopub.execute_input": "2025-07-24T06:36:47.610880Z",
     "iopub.status.busy": "2025-07-24T06:36:47.610388Z",
     "iopub.status.idle": "2025-07-24T06:36:49.515908Z",
     "shell.execute_reply": "2025-07-24T06:36:49.513542Z",
     "shell.execute_reply.started": "2025-07-24T06:36:47.610843Z"
    }
   },
   "outputs": [
    {
     "data": {
      "text/plain": [
       "<All keys matched successfully>"
      ]
     },
     "execution_count": 5,
     "metadata": {},
     "output_type": "execute_result"
    }
   ],
   "source": [
    "from src.model import ViT\n",
    "\n",
    "vit_config = {\n",
    "   'img_dim': (3, 224, 224),\n",
    "   'patch_size': 16,\n",
    "   'num_classes': 102,\n",
    "   'hidden_dim': 768,\n",
    "   'num_heads': 12,\n",
    "   'num_transformers': 12\n",
    "    }\n",
    "\n",
    "model = ViT(**vit_config)\n",
    "state_dict = torch.load('../model_weights/model_weights.pt', map_location=torch.device('cpu'))\n",
    "model.load_state_dict(state_dict)"
   ]
  },
  {
   "cell_type": "code",
   "execution_count": 6,
   "id": "d9c85208-d86c-4bd9-bd07-2dbe270adf9f",
   "metadata": {
    "execution": {
     "iopub.execute_input": "2025-07-24T06:37:39.711542Z",
     "iopub.status.busy": "2025-07-24T06:37:39.710082Z",
     "iopub.status.idle": "2025-07-24T06:37:39.821446Z",
     "shell.execute_reply": "2025-07-24T06:37:39.820326Z",
     "shell.execute_reply.started": "2025-07-24T06:37:39.711483Z"
    }
   },
   "outputs": [],
   "source": [
    "test_loader = DataLoader(test, batch_size = 1)\n",
    "img, label = next(iter(test_loader))"
   ]
  },
  {
   "cell_type": "code",
   "execution_count": 7,
   "id": "45737615-b48c-4cb5-a3e0-eeb8c069da38",
   "metadata": {
    "execution": {
     "iopub.execute_input": "2025-07-24T06:37:49.893126Z",
     "iopub.status.busy": "2025-07-24T06:37:49.892469Z",
     "iopub.status.idle": "2025-07-24T06:37:49.957893Z",
     "shell.execute_reply": "2025-07-24T06:37:49.956316Z",
     "shell.execute_reply.started": "2025-07-24T06:37:49.893089Z"
    }
   },
   "outputs": [],
   "source": [
    "device = \"cuda\" if torch.cuda.is_available() else \"cpu\"\n",
    "img = img.to(device)\n",
    "model = model.to(device)"
   ]
  },
  {
   "cell_type": "code",
   "execution_count": 8,
   "id": "e9f9868e-bf53-4631-8203-3243576c3080",
   "metadata": {
    "execution": {
     "iopub.execute_input": "2025-07-24T06:41:25.727660Z",
     "iopub.status.busy": "2025-07-24T06:41:25.727115Z",
     "iopub.status.idle": "2025-07-24T06:41:25.816380Z",
     "shell.execute_reply": "2025-07-24T06:41:25.814959Z",
     "shell.execute_reply.started": "2025-07-24T06:41:25.727621Z"
    }
   },
   "outputs": [
    {
     "name": "stdout",
     "output_type": "stream",
     "text": [
      "Prediction: 101\n",
      "Prediction: 0\n"
     ]
    }
   ],
   "source": [
    "print (f\"Prediction: {model(img).argmax().item()}\")\n",
    "print (f\"Prediction: {label.item()}\")"
   ]
  }
 ],
 "metadata": {
  "kernelspec": {
   "display_name": "ViT",
   "language": "python",
   "name": "python3"
  },
  "language_info": {
   "codemirror_mode": {
    "name": "ipython",
    "version": 3
   },
   "file_extension": ".py",
   "mimetype": "text/x-python",
   "name": "python",
   "nbconvert_exporter": "python",
   "pygments_lexer": "ipython3",
   "version": "3.8.0"
  }
 },
 "nbformat": 4,
 "nbformat_minor": 5
}
